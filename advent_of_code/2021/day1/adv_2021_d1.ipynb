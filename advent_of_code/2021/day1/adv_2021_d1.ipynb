{
 "cells": [
  {
   "cell_type": "markdown",
   "id": "5febd52d",
   "metadata": {},
   "source": [
    "# Advent of Code challenge 2021\n",
    "\n",
    "## Day 1: Sonar Sweep\n",
    "\n",
    "### Part 1 - Count Increases in Depth Measurements"
   ]
  },
  {
   "cell_type": "code",
   "execution_count": 2,
   "id": "08195782",
   "metadata": {},
   "outputs": [
    {
     "data": {
      "text/plain": [
       "[199, 200, 208, 210, 200, 207, 240, 269, 260, 263]"
      ]
     },
     "execution_count": 2,
     "metadata": {},
     "output_type": "execute_result"
    }
   ],
   "source": [
    "test_input = \"\"\"\n",
    "199\n",
    "200\n",
    "208\n",
    "210\n",
    "200\n",
    "207\n",
    "240\n",
    "269\n",
    "260\n",
    "263\n",
    "\"\"\"\n",
    "\n",
    "test_depths = [int(depth) for depth in test_input.strip().split('\\n')]\n",
    "test_depths"
   ]
  },
  {
   "cell_type": "code",
   "execution_count": 8,
   "id": "3672c70d",
   "metadata": {},
   "outputs": [
    {
     "data": {
      "text/plain": [
       "7"
      ]
     },
     "execution_count": 8,
     "metadata": {},
     "output_type": "execute_result"
    }
   ],
   "source": [
    "def count_increases(depths):\n",
    "    \"\"\"Count number of times the depth measurements increases from previous measurements.\"\"\"\n",
    "    increases = [1 for depth_0, depth_1 in zip(depths[:-1], depths[1:]) if depth_1 > depth_0]\n",
    "    return len(increases)\n",
    "\n",
    "# count_increases(depths=test_depths)"
   ]
  },
  {
   "cell_type": "code",
   "execution_count": 9,
   "id": "a1c9bd88",
   "metadata": {},
   "outputs": [
    {
     "name": "stdout",
     "output_type": "stream",
     "text": [
      "1266\n"
     ]
    }
   ],
   "source": [
    "# Run with final puzzle input\n",
    "with open('adv_2021_d1_pt1_input.txt', 'r') as f:\n",
    "    puz_depths = [int(depth) for depth in f.read().strip().split('\\n')]\n",
    "    print(count_increases(depths=puz_depths))"
   ]
  },
  {
   "cell_type": "markdown",
   "id": "fe74c83b",
   "metadata": {},
   "source": [
    "### Part 2 - Count Increases in Sliding Three Measurement Window"
   ]
  },
  {
   "cell_type": "code",
   "execution_count": 10,
   "id": "7633b65c",
   "metadata": {},
   "outputs": [
    {
     "data": {
      "text/plain": [
       "5"
      ]
     },
     "execution_count": 10,
     "metadata": {},
     "output_type": "execute_result"
    }
   ],
   "source": [
    "def count_increase_over_3depths(depths):\n",
    "    \"\"\"\n",
    "    Count number of times the depth measurements increases from previous measurements over a sliding 3\n",
    "       measurement window.\n",
    "    \"\"\"\n",
    "    increases = [1 for depth_0, depth_3 in zip(depths[:-1], depths[3:]) if depth_3 > depth_0]\n",
    "    return len(increases)\n",
    "\n",
    "count_increase_over_3depths(depths=test_depths)"
   ]
  },
  {
   "cell_type": "code",
   "execution_count": 11,
   "id": "d216e815",
   "metadata": {},
   "outputs": [
    {
     "name": "stdout",
     "output_type": "stream",
     "text": [
      "1217\n"
     ]
    }
   ],
   "source": [
    "# Run with final puzzle input\n",
    "with open('adv_2021_d1_pt1_input.txt', 'r') as f:\n",
    "    puz_depths = [int(depth) for depth in f.read().strip().split('\\n')]\n",
    "    print(count_increase_over_3depths(depths=puz_depths))"
   ]
  },
  {
   "cell_type": "code",
   "execution_count": null,
   "id": "f7594e07",
   "metadata": {},
   "outputs": [],
   "source": []
  }
 ],
 "metadata": {
  "kernelspec": {
   "display_name": "Python 3 (ipykernel)",
   "language": "python",
   "name": "python3"
  },
  "language_info": {
   "codemirror_mode": {
    "name": "ipython",
    "version": 3
   },
   "file_extension": ".py",
   "mimetype": "text/x-python",
   "name": "python",
   "nbconvert_exporter": "python",
   "pygments_lexer": "ipython3",
   "version": "3.8.13"
  }
 },
 "nbformat": 4,
 "nbformat_minor": 5
}
