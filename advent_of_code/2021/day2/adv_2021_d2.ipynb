{
 "cells": [
  {
   "cell_type": "markdown",
   "id": "248d6095",
   "metadata": {},
   "source": [
    "# Advent of Code challenge 2021\n",
    "\n",
    "## Day 2: Dive!\n",
    "\n",
    "### Part 1 - Navigating with Simple Submarine Commands"
   ]
  },
  {
   "cell_type": "code",
   "execution_count": 2,
   "id": "eff800a9",
   "metadata": {},
   "outputs": [
    {
     "data": {
      "text/plain": [
       "['forward 5', 'down 5', 'forward 8', 'up 3', 'down 8', 'forward 2']"
      ]
     },
     "execution_count": 2,
     "metadata": {},
     "output_type": "execute_result"
    }
   ],
   "source": [
    "test_input = \"\"\"\n",
    "forward 5\n",
    "down 5\n",
    "forward 8\n",
    "up 3\n",
    "down 8\n",
    "forward 2\n",
    "\"\"\"\n",
    "\n",
    "test_instructions = [instruction for instruction in test_input.strip().split('\\n')]\n",
    "test_instructions"
   ]
  },
  {
   "cell_type": "code",
   "execution_count": 13,
   "id": "86ddfcdd",
   "metadata": {},
   "outputs": [],
   "source": [
    "class submarine:\n",
    "    def __init__(self, puz_input):\n",
    "        self.puz_input = puz_input\n",
    "        self.hor_pos = 0\n",
    "        self.depth = 0\n",
    "        self.parse_commands()\n",
    "        \n",
    "    def move(self, direc, amount):\n",
    "        \"\"\"Following commands in puzzle input, submarine makes one move.\"\"\"\n",
    "        if direc == \"forward\":\n",
    "            self.hor_pos += int(amount)\n",
    "        elif direc == \"down\":\n",
    "            self.depth += int(amount)\n",
    "        elif direc == \"up\":\n",
    "            self.depth -= int(amount)\n",
    "\n",
    "    def parse_commands(self):\n",
    "        _ = [self.move(*instruction.split(\" \")) for instruction in self.puz_input]"
   ]
  },
  {
   "cell_type": "code",
   "execution_count": 14,
   "id": "26fcc112",
   "metadata": {},
   "outputs": [
    {
     "name": "stdout",
     "output_type": "stream",
     "text": [
      "Hor_pos: 15 | Depth: 10 | Final Answer: 150\n"
     ]
    }
   ],
   "source": [
    "test_sub = submarine(puz_input=test_instructions)\n",
    "print(f\"Hor_pos: {test_sub.hor_pos} | Depth: {test_sub.depth} | Final Answer: {test_sub.hor_pos * test_sub.depth}\")"
   ]
  },
  {
   "cell_type": "code",
   "execution_count": 15,
   "id": "b754c1f6",
   "metadata": {},
   "outputs": [
    {
     "name": "stdout",
     "output_type": "stream",
     "text": [
      "Hor_pos: 1923 | Depth: 1001 | Final Answer: 1924923\n"
     ]
    }
   ],
   "source": [
    "# Run with final puzzle input\n",
    "with open('adv_2021_d2_input.txt', 'r') as f:\n",
    "    puz_input = [command for command in f.read().strip().split('\\n')]\n",
    "    sub = submarine(puz_input=puz_input)\n",
    "    print(f\"Hor_pos: {sub.hor_pos} | Depth: {sub.depth} | Final Answer: {sub.hor_pos * sub.depth}\")"
   ]
  },
  {
   "cell_type": "markdown",
   "id": "616cd11d",
   "metadata": {},
   "source": [
    "### Part 2 - Navigating Submarine with More Complex Commands"
   ]
  },
  {
   "cell_type": "code",
   "execution_count": 18,
   "id": "6a74df61",
   "metadata": {},
   "outputs": [],
   "source": [
    "class submarine_aim:\n",
    "    def __init__(self, puz_input):\n",
    "        self.puz_input = puz_input\n",
    "        self.hor_pos = 0\n",
    "        self.depth = 0\n",
    "        self.aim = 0\n",
    "        self.parse_commands()\n",
    "        \n",
    "    def move(self, direc, amount):\n",
    "        \"\"\"Following commands in puzzle input, submarine makes one move.\"\"\"\n",
    "        if direc == \"forward\":\n",
    "            self.hor_pos += int(amount)\n",
    "            self.depth += int(self.aim * int(amount))\n",
    "        elif direc == \"down\":\n",
    "            self.aim += int(amount)\n",
    "        elif direc == \"up\":\n",
    "            self.aim -= int(amount)\n",
    "\n",
    "    def parse_commands(self):\n",
    "        _ = [self.move(*instruction.split(\" \")) for instruction in self.puz_input]"
   ]
  },
  {
   "cell_type": "code",
   "execution_count": 19,
   "id": "0faa7c4f",
   "metadata": {},
   "outputs": [
    {
     "name": "stdout",
     "output_type": "stream",
     "text": [
      "Hor_pos: 15 | Depth: 60 | Final Answer: 900\n"
     ]
    }
   ],
   "source": [
    "test_sub = submarine_aim(puz_input=test_instructions)\n",
    "print(f\"Hor_pos: {test_sub.hor_pos} | Depth: {test_sub.depth} | Final Answer: {test_sub.hor_pos * test_sub.depth}\")"
   ]
  },
  {
   "cell_type": "code",
   "execution_count": 20,
   "id": "295ee509",
   "metadata": {},
   "outputs": [
    {
     "name": "stdout",
     "output_type": "stream",
     "text": [
      "Hor_pos: 1923 | Depth: 1030939 | Final Answer: 1982495697\n"
     ]
    }
   ],
   "source": [
    "# Run with final puzzle input\n",
    "with open('adv_2021_d2_input.txt', 'r') as f:\n",
    "    puz_input = [command for command in f.read().strip().split('\\n')]\n",
    "    sub = submarine_aim(puz_input=puz_input)\n",
    "    print(f\"Hor_pos: {sub.hor_pos} | Depth: {sub.depth} | Final Answer: {sub.hor_pos * sub.depth}\")"
   ]
  },
  {
   "cell_type": "code",
   "execution_count": null,
   "id": "f06b25ee",
   "metadata": {},
   "outputs": [],
   "source": []
  }
 ],
 "metadata": {
  "kernelspec": {
   "display_name": "Python 3 (ipykernel)",
   "language": "python",
   "name": "python3"
  },
  "language_info": {
   "codemirror_mode": {
    "name": "ipython",
    "version": 3
   },
   "file_extension": ".py",
   "mimetype": "text/x-python",
   "name": "python",
   "nbconvert_exporter": "python",
   "pygments_lexer": "ipython3",
   "version": "3.8.13"
  }
 },
 "nbformat": 4,
 "nbformat_minor": 5
}
