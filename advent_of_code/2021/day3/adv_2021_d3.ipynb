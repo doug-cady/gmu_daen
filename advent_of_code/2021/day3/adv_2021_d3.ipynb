{
 "cells": [
  {
   "cell_type": "markdown",
   "id": "37a7bc14",
   "metadata": {},
   "source": [
    "# Advent of Code challenge 2021\n",
    "\n",
    "## Day 3: Binary Diagnostic"
   ]
  },
  {
   "cell_type": "markdown",
   "id": "f1e84e16",
   "metadata": {},
   "source": [
    "### Part 1 - Find Most and Least Common Bits by Column"
   ]
  },
  {
   "cell_type": "code",
   "execution_count": 3,
   "id": "c67bbb2c",
   "metadata": {},
   "outputs": [],
   "source": [
    "import numpy as np"
   ]
  },
  {
   "cell_type": "code",
   "execution_count": 4,
   "id": "259e1a0d",
   "metadata": {},
   "outputs": [],
   "source": [
    "test_input = \"\"\"\n",
    "00100\n",
    "11110\n",
    "10110\n",
    "10111\n",
    "10101\n",
    "01111\n",
    "00111\n",
    "11100\n",
    "10000\n",
    "11001\n",
    "00010\n",
    "01010\n",
    "\"\"\""
   ]
  },
  {
   "cell_type": "code",
   "execution_count": 5,
   "id": "7551c21b",
   "metadata": {},
   "outputs": [
    {
     "data": {
      "text/plain": [
       "array([[0, 0, 1, 0, 0],\n",
       "       [1, 1, 1, 1, 0],\n",
       "       [1, 0, 1, 1, 0],\n",
       "       [1, 0, 1, 1, 1],\n",
       "       [1, 0, 1, 0, 1],\n",
       "       [0, 1, 1, 1, 1],\n",
       "       [0, 0, 1, 1, 1],\n",
       "       [1, 1, 1, 0, 0],\n",
       "       [1, 0, 0, 0, 0],\n",
       "       [1, 1, 0, 0, 1],\n",
       "       [0, 0, 0, 1, 0],\n",
       "       [0, 1, 0, 1, 0]])"
      ]
     },
     "execution_count": 5,
     "metadata": {},
     "output_type": "execute_result"
    }
   ],
   "source": [
    "test_array = np.array([[int(bit) for bit in line] for line in test_input.strip().split('\\n')])\n",
    "test_array"
   ]
  },
  {
   "cell_type": "code",
   "execution_count": 72,
   "id": "5b87aee3",
   "metadata": {},
   "outputs": [],
   "source": [
    "def find_mcb(x):\n",
    "    \"\"\"Find most common bit in column array.\"\"\"\n",
    "    if sum(x) / len(x) < 0.5:\n",
    "        return '0'\n",
    "    else:\n",
    "        return '1'\n",
    "    \n",
    "    \n",
    "def calc_gamma_epsilon(results, num_cols):\n",
    "    \"\"\"Most common bit = gamma, least common bit = epsilon.\"\"\"\n",
    "    gamma =  int(''.join(results), 2)\n",
    "    inv_num = int(''.join(['1']*num_cols), 2)\n",
    "    epsilon = int(format(gamma ^ inv_num, 'b'), 2)\n",
    "    return gamma, epsilon\n",
    "\n",
    "\n",
    "def solve(x):\n",
    "    num_cols = x.shape[1]\n",
    "    results = []\n",
    "\n",
    "    for col in range(num_cols):\n",
    "        mcb = find_mcb(x=x[:, col])\n",
    "        results.append(mcb)\n",
    "        \n",
    "    return calc_gamma_epsilon(results, num_cols)"
   ]
  },
  {
   "cell_type": "code",
   "execution_count": 73,
   "id": "dd0a6f8b",
   "metadata": {},
   "outputs": [],
   "source": [
    "def run_prog(puz_input):\n",
    "    puz_input = np.array([[int(bit) for bit in line] for line in puz_input.strip().split('\\n')])\n",
    "    gamma, epsilon = solve(puz_input)\n",
    "    print(f\"Gamma: {gamma} | Epsilon: {epsilon} | Final Answer: {gamma * epsilon}\")"
   ]
  },
  {
   "cell_type": "code",
   "execution_count": 74,
   "id": "db2d4f27",
   "metadata": {},
   "outputs": [
    {
     "name": "stdout",
     "output_type": "stream",
     "text": [
      "Gamma: 22 | Epsilon: 9 | Final Answer: 198\n"
     ]
    }
   ],
   "source": [
    "# Test with given example\n",
    "run_prog(puz_input=test_input)"
   ]
  },
  {
   "cell_type": "code",
   "execution_count": 75,
   "id": "f1e261c8",
   "metadata": {},
   "outputs": [
    {
     "name": "stdout",
     "output_type": "stream",
     "text": [
      "Gamma: 217 | Epsilon: 3878 | Final Answer: 841526\n"
     ]
    }
   ],
   "source": [
    "# Run with final puzzle input\n",
    "with open('adv_2021_d3_input.txt', 'r') as f:\n",
    "        run_prog(puz_input=f.read())"
   ]
  },
  {
   "cell_type": "markdown",
   "id": "e7ae91cf",
   "metadata": {},
   "source": [
    "### Part 2 - Keeping Rows with MCB and LCB"
   ]
  },
  {
   "cell_type": "code",
   "execution_count": 14,
   "id": "94054111",
   "metadata": {},
   "outputs": [],
   "source": [
    "import pandas as pd"
   ]
  },
  {
   "cell_type": "code",
   "execution_count": 94,
   "id": "513fad90",
   "metadata": {},
   "outputs": [],
   "source": [
    "def find_mcb_pt2(x):\n",
    "    \"\"\"Find most common bit in column array.\"\"\"\n",
    "    if sum(x) / len(x) < 0.5:\n",
    "        return 0\n",
    "    else:\n",
    "        return 1\n",
    "    \n",
    "    \n",
    "def find_lcb_pt2(x):\n",
    "    \"\"\"Find least common bit in column array.\"\"\"\n",
    "    if sum(x) / len(x) < 0.5:\n",
    "        return 1\n",
    "    else:\n",
    "        return 0\n",
    "    \n",
    "    \n",
    "def to_decimal(row):\n",
    "    \"\"\"Most common bit = gamma, least common bit = epsilon.\"\"\"\n",
    "    return int(''.join(str(x) for x in row.to_numpy()[0]), 2)\n",
    "\n",
    "\n",
    "def solve_pt2(x, func):\n",
    "    num_cols = x.shape[1]\n",
    "    x_copy = x.copy()\n",
    "    results = []\n",
    "\n",
    "    for col in range(num_cols):\n",
    "        col_array = x_copy[col]\n",
    "        filter_bit = func(x=col_array)\n",
    "        x_copy = x_copy[x_copy[col] == filter_bit]\n",
    "        if len(x_copy) == 1:\n",
    "            return to_decimal(row=x_copy)"
   ]
  },
  {
   "cell_type": "markdown",
   "id": "613f11ed",
   "metadata": {},
   "source": [
    "Now our solve function has changed to accept a function (find_mcb or find_lcb) as input so that we can run it twice - once for each type (most common, least common bit). Once we've found the most/least common bit (our `filter_bit`) then we can filter our current dataframe copy by that bit value applied to the specific column we're testing."
   ]
  },
  {
   "cell_type": "code",
   "execution_count": 95,
   "id": "536ce3ff",
   "metadata": {},
   "outputs": [],
   "source": [
    "def run_prog_pt2(puz_input):\n",
    "    puz_input = pd.DataFrame([[int(bit) for bit in line] for line in puz_input.strip().split('\\n')])\n",
    "    oxygen_gen_rating = solve_pt2(puz_input, func=find_mcb_pt2)\n",
    "    c02_scrub_rating = solve_pt2(puz_input, func=find_lcb_pt2)\n",
    "    print(f\"Oxygen Gen: {oxygen_gen_rating} | C02 Scrub: {c02_scrub_rating} | Final Answer: {oxygen_gen_rating * c02_scrub_rating}\") "
   ]
  },
  {
   "cell_type": "code",
   "execution_count": 96,
   "id": "ddeb0fb5",
   "metadata": {},
   "outputs": [
    {
     "name": "stdout",
     "output_type": "stream",
     "text": [
      "Oxygen Gen: 23 | C02 Scrub: 10 | Final Answer: 230\n"
     ]
    }
   ],
   "source": [
    "# Test with given example\n",
    "run_prog_pt2(puz_input=test_input)"
   ]
  },
  {
   "cell_type": "code",
   "execution_count": 97,
   "id": "270a1e6a",
   "metadata": {},
   "outputs": [
    {
     "name": "stdout",
     "output_type": "stream",
     "text": [
      "Oxygen Gen: 1177 | C02 Scrub: 4070 | Final Answer: 4790390\n"
     ]
    }
   ],
   "source": [
    "# Run with final puzzle input\n",
    "with open('adv_2021_d3_input.txt', 'r') as f:\n",
    "    run_prog_pt2(puz_input=f.read())"
   ]
  },
  {
   "cell_type": "code",
   "execution_count": null,
   "id": "207a0d96",
   "metadata": {},
   "outputs": [],
   "source": []
  }
 ],
 "metadata": {
  "kernelspec": {
   "display_name": "Python 3 (ipykernel)",
   "language": "python",
   "name": "python3"
  },
  "language_info": {
   "codemirror_mode": {
    "name": "ipython",
    "version": 3
   },
   "file_extension": ".py",
   "mimetype": "text/x-python",
   "name": "python",
   "nbconvert_exporter": "python",
   "pygments_lexer": "ipython3",
   "version": "3.8.13"
  }
 },
 "nbformat": 4,
 "nbformat_minor": 5
}
