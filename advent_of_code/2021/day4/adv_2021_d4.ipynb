{
 "cells": [
  {
   "cell_type": "markdown",
   "id": "a6ce3f51",
   "metadata": {},
   "source": [
    "# Advent of Code challenge 2021\n",
    "\n",
    "## Day 4: Giant Squid"
   ]
  },
  {
   "cell_type": "markdown",
   "id": "20cce599",
   "metadata": {},
   "source": [
    "### Part 1 - Play Bingo and Find Winning Board Grid\n",
    "\n",
    "Good references I found helpful:\n",
    "- numpy.all() - https://pythonexamples.org/numpy-all/\n",
    "- numpy.all() - https://coderzcolumn.com/tutorials/python/dask-array-guide-to-work-with-large-arrays-in-parallel"
   ]
  },
  {
   "cell_type": "code",
   "execution_count": 3,
   "id": "f56560d1",
   "metadata": {},
   "outputs": [],
   "source": [
    "import dask.array as da\n",
    "import numpy as np"
   ]
  },
  {
   "cell_type": "code",
   "execution_count": 4,
   "id": "f97d5f3b",
   "metadata": {},
   "outputs": [],
   "source": [
    "test_input = \"\"\"\n",
    "7,4,9,5,11,17,23,2,0,14,21,24,10,16,13,6,15,25,12,22,18,20,8,19,3,26,1\n",
    "\n",
    "22 13 17 11  0\n",
    " 8  2 23  4 24\n",
    "21  9 14 16  7\n",
    " 6 10  3 18  5\n",
    " 1 12 20 15 19\n",
    "\n",
    " 3 15  0  2 22\n",
    " 9 18 13 17  5\n",
    "19  8  7 25 23\n",
    "20 11 10 24  4\n",
    "14 21 16 12  6\n",
    "\n",
    "14 21 17 24  4\n",
    "10 16 15  9 19\n",
    "18  8 23 26 20\n",
    "22 11 13  6  5\n",
    " 2  0 12  3  7\n",
    "\"\"\""
   ]
  },
  {
   "cell_type": "markdown",
   "id": "a4859103",
   "metadata": {},
   "source": [
    "### Create a class to solve this problem by looping over bingo numbers in succession until a winning board is found"
   ]
  },
  {
   "cell_type": "code",
   "execution_count": 20,
   "id": "ae2a0768",
   "metadata": {},
   "outputs": [],
   "source": [
    "class Bingo:\n",
    "    def __init__(self, puz_input):\n",
    "        self.puz_input = puz_input\n",
    "        self.bingo_nums = self.get_bingo_nums()\n",
    "        self.bingo_grids = self.make_bingo_grids()\n",
    "        self.bingo_trackers = self.make_bingo_trackers()\n",
    "         \n",
    "    \n",
    "    def __repr__(self):\n",
    "        info = [f\"\\nBoard score: {self.score_win_board}\",\n",
    "                f\"Bingo number: {self.win_bingo_num}\",\n",
    "                f\"Final score: {self.score_win_board * self.win_bingo_num}\"]\n",
    "        return '\\n'.join(info)\n",
    "    \n",
    "            \n",
    "    def get_bingo_nums(self):\n",
    "        \"\"\"Extract first line of puzzle input as bingo numbers to be 'called'\"\"\"\n",
    "        bingo_num_list = self.puz_input.strip().split('\\n')[0]\n",
    "        return [int(bingo) for bingo in bingo_num_list.split(',')]\n",
    "    \n",
    "    \n",
    "    def make_bingo_grids(self):\n",
    "        \"\"\"Parse puzzle input to create arrays of 5x5 bingo grids, 1 grid per chunk.\"\"\"\n",
    "        bingo_lines = self.puz_input.strip().split('\\n')[2:]\n",
    "\n",
    "        bingo_grids = []\n",
    "        grid_list = []\n",
    "\n",
    "        for line in bingo_lines:\n",
    "            if line == '':\n",
    "                bingo_grids.append(np.array(grid_list))\n",
    "                grid_list = []\n",
    "            else:\n",
    "                single_space_line = line.strip().replace('  ', ' ')\n",
    "                grid_list.append([int(val) for val in single_space_line.split(' ')])\n",
    "        else:\n",
    "            bingo_grids.append(np.array(grid_list))\n",
    "\n",
    "        return da.from_array(bingo_grids, chunks = (1, 5, 5))\n",
    "    \n",
    "    \n",
    "    def make_bingo_trackers(self):\n",
    "        \"\"\"Make bingo tracker grids that track when a bingo grid has a number called.\"\"\"\n",
    "        np_arr = [np.array([[False] * 5] * 5)] * len(self.bingo_grids)\n",
    "        return da.from_array(np_arr, chunks = (1, 5, 5))\n",
    "    \n",
    "    \n",
    "    def get_winning_board(self):\n",
    "        \"\"\"Find winning bingo board by summing along each axis - row, col - until one is all True.\"\"\"\n",
    "        if da.all(self.bingo_trackers, axis = 1).any():\n",
    "            return da.all(self.bingo_trackers, axis = 1).any(axis = 1)\n",
    "\n",
    "        if da.all(self.bingo_trackers, axis = 2).any():\n",
    "            return da.all(self.bingo_trackers, axis = 2).any(axis = 1)\n",
    "\n",
    "        return da.array([False, False])\n",
    "    \n",
    "    \n",
    "    def call_bingo_nums(self):\n",
    "        \"\"\"Call each bingo number and update bingo trackers for each board \n",
    "            until a winning board is found.\n",
    "        \"\"\"\n",
    "        for i, bingo_num in enumerate(self.bingo_nums):\n",
    "            print(i, end=', ')\n",
    "            self.bingo_trackers[da.isin(self.bingo_grids, bingo_num)] = True\n",
    "            winning_board = self.get_winning_board()\n",
    "            if winning_board.any():\n",
    "                print(\"Found winning board.\")\n",
    "                self.bingo_grids[self.bingo_trackers] = 0\n",
    "                return (bingo_num, self.bingo_grids[winning_board].compute())\n",
    "        else:\n",
    "            return (bingo_num, self.bingo_trackers.compute())\n",
    "        \n",
    "        \n",
    "    def solve(self):\n",
    "        \"\"\"Main function to solve bingo board puzzle.\"\"\"\n",
    "        self.win_bingo_num, self.winning_board = self.call_bingo_nums()\n",
    "        self.score_win_board = da.sum(self.winning_board, axis=1).sum().compute()"
   ]
  },
  {
   "cell_type": "code",
   "execution_count": 21,
   "id": "ba28a238",
   "metadata": {},
   "outputs": [
    {
     "name": "stdout",
     "output_type": "stream",
     "text": [
      "0, 1, 2, 3, 4, 5, 6, 7, 8, 9, 10, 11, Found winning board.\n",
      "\n",
      "Board score: 188\n",
      "Bingo number: 24\n",
      "Final score: 4512\n"
     ]
    }
   ],
   "source": [
    "# Test input with given example\n",
    "bingo_test = Bingo(puz_input=test_input)\n",
    "bingo_test.solve()\n",
    "print(bingo_test)"
   ]
  },
  {
   "cell_type": "code",
   "execution_count": 22,
   "id": "eabb3411",
   "metadata": {},
   "outputs": [
    {
     "name": "stdout",
     "output_type": "stream",
     "text": [
      "0, 1, 2, 3, 4, 5, 6, 7, 8, 9, 10, 11, 12, 13, 14, 15, 16, 17, 18, 19, 20, 21, 22, 23, 24, 25, 26, 27, 28, 29, Found winning board.\n",
      "\n",
      "Board score: 439\n",
      "Bingo number: 57\n",
      "Final score: 25023\n"
     ]
    }
   ],
   "source": [
    "# Run with final puzzle input\n",
    "with open('adv_2021_d4_input.txt', 'r') as f:\n",
    "    bingo_pt1_final = Bingo(puz_input=f.read())\n",
    "    bingo_pt1_final.solve()\n",
    "    print(bingo_pt1_final)"
   ]
  },
  {
   "cell_type": "markdown",
   "id": "f5639717",
   "metadata": {},
   "source": [
    "### Part 2 - Finding Last Winning Board\n",
    "\n",
    "It might be wise to try a different strategy: let the squid win.\n",
    "Find out which board will win *last*."
   ]
  },
  {
   "cell_type": "code",
   "execution_count": 553,
   "id": "8f88cfc6",
   "metadata": {},
   "outputs": [
    {
     "data": {
      "text/plain": [
       "array([False, False,  True])"
      ]
     },
     "execution_count": 553,
     "metadata": {},
     "output_type": "execute_result"
    }
   ],
   "source": [
    "# Identify last non-winning board\n",
    "da.all(bingo_trackers, axis = 2).any(axis = 1).compute()"
   ]
  },
  {
   "cell_type": "code",
   "execution_count": 537,
   "id": "121bb7f7",
   "metadata": {},
   "outputs": [
    {
     "data": {
      "text/plain": [
       "0"
      ]
     },
     "execution_count": 537,
     "metadata": {},
     "output_type": "execute_result"
    }
   ],
   "source": [
    "num_bingo_grids = len(bingo_grids)\n",
    "da.all(bingo_trackers, axis = 1).any(axis = 1).sum().compute()"
   ]
  },
  {
   "cell_type": "code",
   "execution_count": 64,
   "id": "bb823bc9",
   "metadata": {},
   "outputs": [],
   "source": [
    "class Bingo2:\n",
    "    def __init__(self, puz_input):\n",
    "        self.puz_input = puz_input\n",
    "        self.bingo_nums = self.get_bingo_nums()\n",
    "        self.bingo_grids = self.make_bingo_grids()\n",
    "        self.num_bingo_grids = len(self.bingo_grids)\n",
    "        self.bingo_trackers = self.make_bingo_trackers()\n",
    "         \n",
    "    \n",
    "    def __repr__(self):\n",
    "        info = [f\"\\nBoard score: {self.score_win_board}\",\n",
    "                f\"Bingo number: {self.win_bingo_num}\",\n",
    "                f\"Final score: {self.score_win_board * self.win_bingo_num}\"]\n",
    "        return '\\n'.join(info)\n",
    "    \n",
    "            \n",
    "    def get_bingo_nums(self):\n",
    "        \"\"\"Extract first line of puzzle input as bingo numbers to be 'called'\"\"\"\n",
    "        bingo_num_list = self.puz_input.strip().split('\\n')[0]\n",
    "        return [int(bingo) for bingo in bingo_num_list.split(',')]\n",
    "    \n",
    "    \n",
    "    def make_bingo_grids(self):\n",
    "        \"\"\"Parse puzzle input to create arrays of 5x5 bingo grids, 1 grid per chunk.\"\"\"\n",
    "        bingo_lines = self.puz_input.strip().split('\\n')[2:]\n",
    "\n",
    "        bingo_grids = []\n",
    "        grid_list = []\n",
    "\n",
    "        for line in bingo_lines:\n",
    "            if line == '':\n",
    "                bingo_grids.append(np.array(grid_list))\n",
    "                grid_list = []\n",
    "            else:\n",
    "                single_space_line = line.strip().replace('  ', ' ')\n",
    "                grid_list.append([int(val) for val in single_space_line.split(' ')])\n",
    "        else:\n",
    "            bingo_grids.append(np.array(grid_list))\n",
    "\n",
    "        return da.from_array(bingo_grids, chunks = (1, 5, 5))\n",
    "    \n",
    "    \n",
    "    def make_bingo_trackers(self):\n",
    "        \"\"\"Make bingo tracker grids that track when a bingo grid has a number called.\"\"\"\n",
    "        np_arr = [np.array([[False] * 5] * 5)] * self.num_bingo_grids\n",
    "        return da.from_array(np_arr, chunks = (1, 5, 5))\n",
    "    \n",
    "    \n",
    "    def get_winning_board(self):\n",
    "        \"\"\"Find winning bingo board by summing along each axis - row, col - until one is all True.\"\"\"\n",
    "        if da.all(self.last_bingo_tracker, axis = 0).any():\n",
    "            return da.all(self.last_bingo_tracker, axis = 0).any(axis = 0)\n",
    "\n",
    "        if da.all(self.last_bingo_tracker, axis = 1).any():\n",
    "            return da.all(self.last_bingo_tracker, axis = 1).any(axis = 0)\n",
    "\n",
    "        return da.array([False, False])\n",
    "    \n",
    "    \n",
    "    def get_last_winning_board(self):\n",
    "        \"\"\"Sum along each bingo tracker grid axis - row, col - and return last winning board index.\"\"\"\n",
    "        col_sum = da.all(self.bingo_trackers, axis = 1).any(axis = 1).sum()\n",
    "        row_sum = da.all(self.bingo_trackers, axis = 2).any(axis = 1).sum()\n",
    "\n",
    "        if max(col_sum, row_sum) == (self.num_bingo_grids - 1):\n",
    "            winning_board_tracker = da.all(self.bingo_trackers, axis = 2).any(axis = 1).compute()\n",
    "            last_win_board_idx = np.where(winning_board_tracker == False)[0][0]\n",
    "            return (self.bingo_grids[last_win_board_idx].compute(), \n",
    "                    self.bingo_trackers[last_win_board_idx].compute())\n",
    "        else:\n",
    "            return (da.array([False, False]), da.array([False, False]))\n",
    "    \n",
    "    \n",
    "    def call_bingo_nums(self):\n",
    "        \"\"\"Call each bingo number and update bingo trackers for each board until all \n",
    "            but 1 winning board is found.\n",
    "        \"\"\"\n",
    "        for bingo_num in self.bingo_nums:\n",
    "            print(bingo_num, end=', ')\n",
    "            self.bingo_trackers[da.isin(self.bingo_grids, bingo_num)] = True\n",
    "            self.winning_board, self.last_bingo_tracker = self.get_last_winning_board()\n",
    "\n",
    "            if self.winning_board.any():\n",
    "                print(\"Found last non-winning board.\")\n",
    "                break\n",
    "        else:\n",
    "            return bingo_num, self.winning_board\n",
    "\n",
    "        # Check if last board has won yet\n",
    "        self.last_winning_board = self.get_winning_board()\n",
    "        if self.last_winning_board.any():\n",
    "            print(\"Found last winning board.\")\n",
    "            self.winning_board[self.last_bingo_tracker] = 0\n",
    "            return bingo_num, self.winning_board\n",
    "        \n",
    "        # Found last board to win, but it hasn't won yet. Keep calling numbers until it wins.\n",
    "        for bingo_num in self.bingo_nums[i + 1:]:            \n",
    "            self.last_bingo_tracker[np.isin(self.winning_board, bingo_num)] = True\n",
    "            self.last_winning_board = self.get_winning_board()\n",
    "            \n",
    "            if self.last_winning_board.any():\n",
    "                print(\"Found last winning board.\")\n",
    "                self.winning_board[self.last_bingo_tracker] = 0\n",
    "                return bingo_num, self.winning_board\n",
    "        \n",
    "        \n",
    "    def solve(self):\n",
    "        \"\"\"Main function to solve bingo board puzzle.\"\"\"\n",
    "        self.win_bingo_num, self.winning_board = self.call_bingo_nums()\n",
    "        self.score_win_board = da.sum(self.winning_board, axis=1).sum().compute()"
   ]
  },
  {
   "cell_type": "code",
   "execution_count": 55,
   "id": "a3b88ae7",
   "metadata": {},
   "outputs": [
    {
     "name": "stdout",
     "output_type": "stream",
     "text": [
      "7, 4, 9, 5, 11, 17, 23, 2, 0, 14, 21, 24, 10, 16, Found last non-winning board.\n",
      "13, Found last winning board.\n",
      "\n",
      "Board score: 148\n",
      "Bingo number: 13\n",
      "Final score: 1924\n"
     ]
    }
   ],
   "source": [
    "# Test input with given example\n",
    "bingo_test = Bingo2(puz_input=test_input)\n",
    "bingo_test.solve()\n",
    "print(bingo_test)"
   ]
  },
  {
   "cell_type": "code",
   "execution_count": 65,
   "id": "ad7da20b",
   "metadata": {},
   "outputs": [
    {
     "name": "stdout",
     "output_type": "stream",
     "text": [
      "18, 99, 39, 89, 0, 40, 52, 72, 61, 77, 69, 51, 30, 83, 20, 65, 93, 88, 29, 22, 14, 82, 53, 41, 76, 79, 46, 78, 56, 57, 24, 36, 38, 11, 50, 1, 19, 26, 70, 4, 54, 3, 84, 33, 15, 21, 9, 58, 64, 85, 10, 66, 17, 43, 31, 27, 2, 5, 95, 96, 16, 97, 12, 34, 74, 67, 86, 23, 49, 8, 59, 45, 68, 91, 25, 48, 13, 28, 81, 94, 92, 42, 7, 37, 75, 32, 6, Found last non-winning board.\n",
      "Found last winning board.\n",
      "\n",
      "Board score: 439\n",
      "Bingo number: 6\n",
      "Final score: 2634\n"
     ]
    }
   ],
   "source": [
    "# Run with final puzzle input\n",
    "with open('adv_2021_d4_input.txt', 'r') as f:\n",
    "    bingo_pt2_final = Bingo2(puz_input=f.read())\n",
    "    bingo_pt2_final.solve()\n",
    "    print(bingo_pt2_final)"
   ]
  }
 ],
 "metadata": {
  "kernelspec": {
   "display_name": "Python 3 (ipykernel)",
   "language": "python",
   "name": "python3"
  },
  "language_info": {
   "codemirror_mode": {
    "name": "ipython",
    "version": 3
   },
   "file_extension": ".py",
   "mimetype": "text/x-python",
   "name": "python",
   "nbconvert_exporter": "python",
   "pygments_lexer": "ipython3",
   "version": "3.8.13"
  }
 },
 "nbformat": 4,
 "nbformat_minor": 5
}
