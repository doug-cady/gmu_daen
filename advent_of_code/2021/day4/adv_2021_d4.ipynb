{
 "cells": [
  {
   "cell_type": "markdown",
   "id": "5d25271e",
   "metadata": {},
   "source": [
    "# Advent of Code challenge 2021\n",
    "\n",
    "## Day 4: Giant Squid"
   ]
  },
  {
   "cell_type": "markdown",
   "id": "9d00c5d6",
   "metadata": {},
   "source": [
    "### Part 1 - Play Bingo and Find Winning Board Grid"
   ]
  },
  {
   "cell_type": "code",
   "execution_count": 208,
   "id": "442a9dc6",
   "metadata": {},
   "outputs": [],
   "source": [
    "import dask.array as da\n",
    "import dask.dataframe as dd\n",
    "import numpy as np\n",
    "import pandas as pd"
   ]
  },
  {
   "cell_type": "code",
   "execution_count": 6,
   "id": "affe3909",
   "metadata": {},
   "outputs": [],
   "source": [
    "test_input = \"\"\"\n",
    "7,4,9,5,11,17,23,2,0,14,21,24,10,16,13,6,15,25,12,22,18,20,8,19,3,26,1\n",
    "\n",
    "22 13 17 11  0\n",
    " 8  2 23  4 24\n",
    "21  9 14 16  7\n",
    " 6 10  3 18  5\n",
    " 1 12 20 15 19\n",
    "\n",
    " 3 15  0  2 22\n",
    " 9 18 13 17  5\n",
    "19  8  7 25 23\n",
    "20 11 10 24  4\n",
    "14 21 16 12  6\n",
    "\n",
    "14 21 17 24  4\n",
    "10 16 15  9 19\n",
    "18  8 23 26 20\n",
    "22 11 13  6  5\n",
    " 2  0 12  3  7\n",
    "\"\"\""
   ]
  },
  {
   "cell_type": "code",
   "execution_count": 33,
   "id": "73743841",
   "metadata": {},
   "outputs": [],
   "source": [
    "def get_bingo_nums(puz_input):\n",
    "    \"\"\"Extract first line of puzzle input as bingo numbers to be 'called'\"\"\"\n",
    "    bingo_num_list = puz_input.strip().split('\\n')[0]\n",
    "    return [int(bingo) for bingo in bingo_num_list.split(',')]"
   ]
  },
  {
   "cell_type": "code",
   "execution_count": 34,
   "id": "577b9714",
   "metadata": {
    "collapsed": true,
    "jupyter": {
     "outputs_hidden": true
    }
   },
   "outputs": [
    {
     "data": {
      "text/plain": [
       "[7,\n",
       " 4,\n",
       " 9,\n",
       " 5,\n",
       " 11,\n",
       " 17,\n",
       " 23,\n",
       " 2,\n",
       " 0,\n",
       " 14,\n",
       " 21,\n",
       " 24,\n",
       " 10,\n",
       " 16,\n",
       " 13,\n",
       " 6,\n",
       " 15,\n",
       " 25,\n",
       " 12,\n",
       " 22,\n",
       " 18,\n",
       " 20,\n",
       " 8,\n",
       " 19,\n",
       " 3,\n",
       " 26,\n",
       " 1]"
      ]
     },
     "execution_count": 34,
     "metadata": {},
     "output_type": "execute_result"
    }
   ],
   "source": [
    "bingo_nums = get_bingo_nums(puz_input=test_input)\n",
    "bingo_nums"
   ]
  },
  {
   "cell_type": "code",
   "execution_count": 334,
   "id": "4bee5b34",
   "metadata": {},
   "outputs": [],
   "source": [
    "def get_bingo_grids(puz_input):\n",
    "    bingo_lines = puz_input.strip().split('\\n')[2:]\n",
    "\n",
    "    bingo_grids = []\n",
    "    grid_list = []\n",
    "\n",
    "    for line in bingo_lines:\n",
    "        if line == '':\n",
    "            bingo_grids.append(np.array(grid_list))\n",
    "            grid_list = []\n",
    "        else:\n",
    "            single_space_line = line.strip().replace('  ', ' ')\n",
    "            grid_list.append([int(val) for val in single_space_line.split(' ')])\n",
    "    else:\n",
    "        bingo_grids.append(np.array(grid_list))\n",
    "    \n",
    "    return da.from_array(bingo_grids, chunks = (1, 5, 5))"
   ]
  },
  {
   "cell_type": "code",
   "execution_count": 289,
   "id": "0d69abe3",
   "metadata": {
    "jupyter": {
     "source_hidden": true
    }
   },
   "outputs": [],
   "source": [
    "# def get_bingo_grids(puz_input):\n",
    "#     bingo_lines = puz_input.strip().split('\\n')[2:]\n",
    "\n",
    "#     bingo_grids = []\n",
    "#     grid_list = []\n",
    "#     df_num = 0\n",
    "\n",
    "#     for line in bingo_lines:\n",
    "#         if line == '':\n",
    "#             df = pd.DataFrame(grid_list)\n",
    "#             df.insert(0, 'chunk', df_num)\n",
    "#             df.set_index('chunk')\n",
    "#             bingo_grids.append(df)\n",
    "#             grid_list = []\n",
    "#             df_num += 1\n",
    "#         else:\n",
    "#             single_space_line = line.strip().replace('  ', ' ')\n",
    "#             grid_list.append([int(val) for val in single_space_line.split(' ')])\n",
    "#     else:\n",
    "#         df = pd.DataFrame(grid_list)\n",
    "#         df.insert(0, 'chunk', df_num)\n",
    "#         df.set_index('chunk')\n",
    "#         bingo_grids.append(df)\n",
    "            \n",
    "#     return dd.from_pandas(pd.concat(bingo_grids).reset_index(drop=True), chunksize = 5)"
   ]
  },
  {
   "cell_type": "code",
   "execution_count": 480,
   "id": "097d55f7",
   "metadata": {},
   "outputs": [
    {
     "data": {
      "text/html": [
       "<table>\n",
       "<tr>\n",
       "<td>\n",
       "<table>\n",
       "  <thead>\n",
       "    <tr><td> </td><th> Array </th><th> Chunk </th></tr>\n",
       "  </thead>\n",
       "  <tbody>\n",
       "    <tr><th> Bytes </th><td> 600 B </td> <td> 200 B </td></tr>\n",
       "    <tr><th> Shape </th><td> (3, 5, 5) </td> <td> (1, 5, 5) </td></tr>\n",
       "    <tr><th> Count </th><td> 3 Tasks </td><td> 3 Chunks </td></tr>\n",
       "    <tr><th> Type </th><td> int64 </td><td> numpy.ndarray </td></tr>\n",
       "  </tbody>\n",
       "</table>\n",
       "</td>\n",
       "<td>\n",
       "<svg width=\"222\" height=\"212\" style=\"stroke:rgb(0,0,0);stroke-width:1\" >\n",
       "\n",
       "  <!-- Horizontal lines -->\n",
       "  <line x1=\"10\" y1=\"0\" x2=\"52\" y2=\"42\" style=\"stroke-width:2\" />\n",
       "  <line x1=\"10\" y1=\"120\" x2=\"52\" y2=\"162\" style=\"stroke-width:2\" />\n",
       "\n",
       "  <!-- Vertical lines -->\n",
       "  <line x1=\"10\" y1=\"0\" x2=\"10\" y2=\"120\" style=\"stroke-width:2\" />\n",
       "  <line x1=\"24\" y1=\"14\" x2=\"24\" y2=\"134\" />\n",
       "  <line x1=\"38\" y1=\"28\" x2=\"38\" y2=\"148\" />\n",
       "  <line x1=\"52\" y1=\"42\" x2=\"52\" y2=\"162\" style=\"stroke-width:2\" />\n",
       "\n",
       "  <!-- Colored Rectangle -->\n",
       "  <polygon points=\"10.0,0.0 52.35294117647059,42.35294117647059 52.35294117647059,162.35294117647058 10.0,120.0\" style=\"fill:#ECB172A0;stroke-width:0\"/>\n",
       "\n",
       "  <!-- Horizontal lines -->\n",
       "  <line x1=\"10\" y1=\"0\" x2=\"130\" y2=\"0\" style=\"stroke-width:2\" />\n",
       "  <line x1=\"24\" y1=\"14\" x2=\"144\" y2=\"14\" />\n",
       "  <line x1=\"38\" y1=\"28\" x2=\"158\" y2=\"28\" />\n",
       "  <line x1=\"52\" y1=\"42\" x2=\"172\" y2=\"42\" style=\"stroke-width:2\" />\n",
       "\n",
       "  <!-- Vertical lines -->\n",
       "  <line x1=\"10\" y1=\"0\" x2=\"52\" y2=\"42\" style=\"stroke-width:2\" />\n",
       "  <line x1=\"130\" y1=\"0\" x2=\"172\" y2=\"42\" style=\"stroke-width:2\" />\n",
       "\n",
       "  <!-- Colored Rectangle -->\n",
       "  <polygon points=\"10.0,0.0 130.0,0.0 172.35294117647058,42.35294117647059 52.35294117647059,42.35294117647059\" style=\"fill:#ECB172A0;stroke-width:0\"/>\n",
       "\n",
       "  <!-- Horizontal lines -->\n",
       "  <line x1=\"52\" y1=\"42\" x2=\"172\" y2=\"42\" style=\"stroke-width:2\" />\n",
       "  <line x1=\"52\" y1=\"162\" x2=\"172\" y2=\"162\" style=\"stroke-width:2\" />\n",
       "\n",
       "  <!-- Vertical lines -->\n",
       "  <line x1=\"52\" y1=\"42\" x2=\"52\" y2=\"162\" style=\"stroke-width:2\" />\n",
       "  <line x1=\"172\" y1=\"42\" x2=\"172\" y2=\"162\" style=\"stroke-width:2\" />\n",
       "\n",
       "  <!-- Colored Rectangle -->\n",
       "  <polygon points=\"52.35294117647059,42.35294117647059 172.35294117647058,42.35294117647059 172.35294117647058,162.35294117647058 52.35294117647059,162.35294117647058\" style=\"fill:#ECB172A0;stroke-width:0\"/>\n",
       "\n",
       "  <!-- Text -->\n",
       "  <text x=\"112.352941\" y=\"182.352941\" font-size=\"1.0rem\" font-weight=\"100\" text-anchor=\"middle\" >5</text>\n",
       "  <text x=\"192.352941\" y=\"102.352941\" font-size=\"1.0rem\" font-weight=\"100\" text-anchor=\"middle\" transform=\"rotate(0,192.352941,102.352941)\">5</text>\n",
       "  <text x=\"21.176471\" y=\"161.176471\" font-size=\"1.0rem\" font-weight=\"100\" text-anchor=\"middle\" transform=\"rotate(45,21.176471,161.176471)\">3</text>\n",
       "</svg>\n",
       "</td>\n",
       "</tr>\n",
       "</table>"
      ],
      "text/plain": [
       "dask.array<array, shape=(3, 5, 5), dtype=int64, chunksize=(1, 5, 5), chunktype=numpy.ndarray>"
      ]
     },
     "execution_count": 480,
     "metadata": {},
     "output_type": "execute_result"
    }
   ],
   "source": [
    "bingo_grids = get_bingo_grids(puz_input=test_input)\n",
    "bingo_grids"
   ]
  },
  {
   "cell_type": "code",
   "execution_count": 336,
   "id": "1e42a079",
   "metadata": {},
   "outputs": [
    {
     "data": {
      "text/plain": [
       "array([[[22, 13, 17, 11,  0],\n",
       "        [ 8,  2, 23,  4, 24],\n",
       "        [21,  9, 14, 16,  7],\n",
       "        [ 6, 10,  3, 18,  5],\n",
       "        [ 1, 12, 20, 15, 19]],\n",
       "\n",
       "       [[ 3, 15,  0,  2, 22],\n",
       "        [ 9, 18, 13, 17,  5],\n",
       "        [19,  8,  7, 25, 23],\n",
       "        [20, 11, 10, 24,  4],\n",
       "        [14, 21, 16, 12,  6]],\n",
       "\n",
       "       [[14, 21, 17, 24,  4],\n",
       "        [10, 16, 15,  9, 19],\n",
       "        [18,  8, 23, 26, 20],\n",
       "        [22, 11, 13,  6,  5],\n",
       "        [ 2,  0, 12,  3,  7]]])"
      ]
     },
     "execution_count": 336,
     "metadata": {},
     "output_type": "execute_result"
    }
   ],
   "source": [
    "test = bingo_grids.compute()\n",
    "test"
   ]
  },
  {
   "cell_type": "code",
   "execution_count": 337,
   "id": "0515923c",
   "metadata": {},
   "outputs": [],
   "source": [
    "def make_bingo_trackers(bingo_grids):\n",
    "    num_bingo_grids = len(bingo_grids)\n",
    "    np_arr = [np.array([[False] * 5] * 5)] * num_bingo_grids\n",
    "    return da.from_array(np_arr, chunks = (1, 5, 5))"
   ]
  },
  {
   "cell_type": "code",
   "execution_count": 291,
   "id": "37948f07",
   "metadata": {
    "jupyter": {
     "source_hidden": true
    }
   },
   "outputs": [],
   "source": [
    "# def make_bingo_trackers(bingo_grids):\n",
    "#     num_bingo_grids = int(len(bingo_grids) / 5)\n",
    "#     df = pd.concat([pd.DataFrame([[False] * 5] * (5 * num_bingo_grids))])\n",
    "#     chunk_series = [0] * 5 + [1] * 5 + [2] * 5\n",
    "#     df.insert(0, 'chunk', chunk_series)\n",
    "#     df.set_index('chunk')\n",
    "#     return dd.from_pandas(df, chunksize = 5)"
   ]
  },
  {
   "cell_type": "code",
   "execution_count": 479,
   "id": "e55646a1",
   "metadata": {},
   "outputs": [
    {
     "data": {
      "text/html": [
       "<table>\n",
       "<tr>\n",
       "<td>\n",
       "<table>\n",
       "  <thead>\n",
       "    <tr><td> </td><th> Array </th><th> Chunk </th></tr>\n",
       "  </thead>\n",
       "  <tbody>\n",
       "    <tr><th> Bytes </th><td> 75 B </td> <td> 25 B </td></tr>\n",
       "    <tr><th> Shape </th><td> (3, 5, 5) </td> <td> (1, 5, 5) </td></tr>\n",
       "    <tr><th> Count </th><td> 3 Tasks </td><td> 3 Chunks </td></tr>\n",
       "    <tr><th> Type </th><td> bool </td><td> numpy.ndarray </td></tr>\n",
       "  </tbody>\n",
       "</table>\n",
       "</td>\n",
       "<td>\n",
       "<svg width=\"222\" height=\"212\" style=\"stroke:rgb(0,0,0);stroke-width:1\" >\n",
       "\n",
       "  <!-- Horizontal lines -->\n",
       "  <line x1=\"10\" y1=\"0\" x2=\"52\" y2=\"42\" style=\"stroke-width:2\" />\n",
       "  <line x1=\"10\" y1=\"120\" x2=\"52\" y2=\"162\" style=\"stroke-width:2\" />\n",
       "\n",
       "  <!-- Vertical lines -->\n",
       "  <line x1=\"10\" y1=\"0\" x2=\"10\" y2=\"120\" style=\"stroke-width:2\" />\n",
       "  <line x1=\"24\" y1=\"14\" x2=\"24\" y2=\"134\" />\n",
       "  <line x1=\"38\" y1=\"28\" x2=\"38\" y2=\"148\" />\n",
       "  <line x1=\"52\" y1=\"42\" x2=\"52\" y2=\"162\" style=\"stroke-width:2\" />\n",
       "\n",
       "  <!-- Colored Rectangle -->\n",
       "  <polygon points=\"10.0,0.0 52.35294117647059,42.35294117647059 52.35294117647059,162.35294117647058 10.0,120.0\" style=\"fill:#ECB172A0;stroke-width:0\"/>\n",
       "\n",
       "  <!-- Horizontal lines -->\n",
       "  <line x1=\"10\" y1=\"0\" x2=\"130\" y2=\"0\" style=\"stroke-width:2\" />\n",
       "  <line x1=\"24\" y1=\"14\" x2=\"144\" y2=\"14\" />\n",
       "  <line x1=\"38\" y1=\"28\" x2=\"158\" y2=\"28\" />\n",
       "  <line x1=\"52\" y1=\"42\" x2=\"172\" y2=\"42\" style=\"stroke-width:2\" />\n",
       "\n",
       "  <!-- Vertical lines -->\n",
       "  <line x1=\"10\" y1=\"0\" x2=\"52\" y2=\"42\" style=\"stroke-width:2\" />\n",
       "  <line x1=\"130\" y1=\"0\" x2=\"172\" y2=\"42\" style=\"stroke-width:2\" />\n",
       "\n",
       "  <!-- Colored Rectangle -->\n",
       "  <polygon points=\"10.0,0.0 130.0,0.0 172.35294117647058,42.35294117647059 52.35294117647059,42.35294117647059\" style=\"fill:#ECB172A0;stroke-width:0\"/>\n",
       "\n",
       "  <!-- Horizontal lines -->\n",
       "  <line x1=\"52\" y1=\"42\" x2=\"172\" y2=\"42\" style=\"stroke-width:2\" />\n",
       "  <line x1=\"52\" y1=\"162\" x2=\"172\" y2=\"162\" style=\"stroke-width:2\" />\n",
       "\n",
       "  <!-- Vertical lines -->\n",
       "  <line x1=\"52\" y1=\"42\" x2=\"52\" y2=\"162\" style=\"stroke-width:2\" />\n",
       "  <line x1=\"172\" y1=\"42\" x2=\"172\" y2=\"162\" style=\"stroke-width:2\" />\n",
       "\n",
       "  <!-- Colored Rectangle -->\n",
       "  <polygon points=\"52.35294117647059,42.35294117647059 172.35294117647058,42.35294117647059 172.35294117647058,162.35294117647058 52.35294117647059,162.35294117647058\" style=\"fill:#ECB172A0;stroke-width:0\"/>\n",
       "\n",
       "  <!-- Text -->\n",
       "  <text x=\"112.352941\" y=\"182.352941\" font-size=\"1.0rem\" font-weight=\"100\" text-anchor=\"middle\" >5</text>\n",
       "  <text x=\"192.352941\" y=\"102.352941\" font-size=\"1.0rem\" font-weight=\"100\" text-anchor=\"middle\" transform=\"rotate(0,192.352941,102.352941)\">5</text>\n",
       "  <text x=\"21.176471\" y=\"161.176471\" font-size=\"1.0rem\" font-weight=\"100\" text-anchor=\"middle\" transform=\"rotate(45,21.176471,161.176471)\">3</text>\n",
       "</svg>\n",
       "</td>\n",
       "</tr>\n",
       "</table>"
      ],
      "text/plain": [
       "dask.array<array, shape=(3, 5, 5), dtype=bool, chunksize=(1, 5, 5), chunktype=numpy.ndarray>"
      ]
     },
     "execution_count": 479,
     "metadata": {},
     "output_type": "execute_result"
    }
   ],
   "source": [
    "bingo_trackers = make_bingo_trackers(bingo_grids)\n",
    "bingo_trackers"
   ]
  },
  {
   "cell_type": "code",
   "execution_count": 475,
   "id": "75a7410d",
   "metadata": {},
   "outputs": [
    {
     "data": {
      "text/plain": [
       "array([[[False, False, False, False, False],\n",
       "        [False, False, False, False, False],\n",
       "        [False, False, False, False, False],\n",
       "        [False, False, False, False, False],\n",
       "        [False, False, False, False, False]],\n",
       "\n",
       "       [[False, False, False, False, False],\n",
       "        [False, False, False, False, False],\n",
       "        [False, False, False, False, False],\n",
       "        [False, False, False, False, False],\n",
       "        [False, False, False, False, False]],\n",
       "\n",
       "       [[False, False, False, False, False],\n",
       "        [False, False, False, False, False],\n",
       "        [False, False, False, False, False],\n",
       "        [False, False, False, False, False],\n",
       "        [False, False, False, False, False]]])"
      ]
     },
     "execution_count": 475,
     "metadata": {},
     "output_type": "execute_result"
    }
   ],
   "source": [
    "bingo_trackers.compute()"
   ]
  },
  {
   "cell_type": "code",
   "execution_count": 459,
   "id": "a9d8841b",
   "metadata": {},
   "outputs": [
    {
     "data": {
      "text/plain": [
       "array([[False, False, False, False, False],\n",
       "       [False, False, False, False, False],\n",
       "       [False, False, False, False, False]])"
      ]
     },
     "execution_count": 459,
     "metadata": {},
     "output_type": "execute_result"
    }
   ],
   "source": [
    "# along columns\n",
    "da.all(bingo_trackers, axis = 1).compute()"
   ]
  },
  {
   "cell_type": "code",
   "execution_count": 460,
   "id": "ba63f3a3",
   "metadata": {},
   "outputs": [
    {
     "data": {
      "text/plain": [
       "array([[False, False, False, False, False],\n",
       "       [False, False, False, False, False],\n",
       "       [False, False, False, False, False]])"
      ]
     },
     "execution_count": 460,
     "metadata": {},
     "output_type": "execute_result"
    }
   ],
   "source": [
    "# across rows\n",
    "da.all(bingo_trackers, axis = 2).compute() "
   ]
  },
  {
   "cell_type": "code",
   "execution_count": 381,
   "id": "968b0156",
   "metadata": {},
   "outputs": [
    {
     "data": {
      "text/plain": [
       "array([[[14, 21, 17, 24,  4],\n",
       "        [10, 16, 15,  9, 19],\n",
       "        [18,  8, 23, 26, 20],\n",
       "        [22, 11, 13,  6,  5],\n",
       "        [ 2,  0, 12,  3,  7]]])"
      ]
     },
     "execution_count": 381,
     "metadata": {},
     "output_type": "execute_result"
    }
   ],
   "source": [
    "bingo_grids[da.all(bingo_trackers, axis = 2).any(axis = 1).compute()].compute()"
   ]
  },
  {
   "cell_type": "code",
   "execution_count": 390,
   "id": "08d099e0",
   "metadata": {},
   "outputs": [
    {
     "data": {
      "text/plain": [
       "True"
      ]
     },
     "execution_count": 390,
     "metadata": {},
     "output_type": "execute_result"
    }
   ],
   "source": [
    "da.all(bingo_trackers, axis = 2).any(axis = 1).any().compute()"
   ]
  },
  {
   "cell_type": "code",
   "execution_count": 481,
   "id": "80fc7dda",
   "metadata": {},
   "outputs": [],
   "source": [
    "def get_winning_board(bingo_trackers):\n",
    "    if da.all(bingo_trackers, axis = 1).any():\n",
    "        return da.all(bingo_trackers, axis = 1).any(axis = 1)\n",
    "        \n",
    "    if da.all(bingo_trackers, axis = 2).any():\n",
    "        return da.all(bingo_trackers, axis = 2).any(axis = 1)\n",
    "            \n",
    "    return da.array([False, False])"
   ]
  },
  {
   "cell_type": "code",
   "execution_count": 509,
   "id": "a276656d",
   "metadata": {},
   "outputs": [],
   "source": [
    "def call_bingo_nums(bingo_nums):\n",
    "    for i, bingo_num in enumerate(bingo_nums):\n",
    "        print(i, end=', ')\n",
    "        bingo_trackers[da.isin(bingo_grids, bingo_num)] = True\n",
    "        winning_board = get_winning_board(bingo_trackers)\n",
    "        if winning_board.any():\n",
    "            print(\"Found winning board.\")\n",
    "            bingo_grids[bingo_trackers] = 0\n",
    "            return (bingo_num, bingo_grids[winning_board].compute())\n",
    "    else:\n",
    "        return (bingo_num, bingo_trackers.compute())"
   ]
  },
  {
   "cell_type": "code",
   "execution_count": 516,
   "id": "64ccf8ba",
   "metadata": {},
   "outputs": [],
   "source": [
    "def solve(puz_input):\n",
    "    win_bingo_num, winning_board = call_bingo_nums(bingo_nums)\n",
    "    score_win_board = da.sum(winning_board, axis=1).sum().compute()\n",
    "    print(\"\\nscore\", score_win_board)\n",
    "    print(\"bingo number\", win_bingo_num)\n",
    "    print(\"final score\", score_win_board * win_bingo_num)"
   ]
  },
  {
   "cell_type": "code",
   "execution_count": 513,
   "id": "041b9eb5",
   "metadata": {},
   "outputs": [
    {
     "name": "stdout",
     "output_type": "stream",
     "text": [
      "0, 1, 2, 3, 4, 5, 6, 7, 8, 9, 10, 11, Found winning board.\n",
      "\n",
      "score 188\n",
      "bingo number 24\n",
      "final score 4512\n"
     ]
    }
   ],
   "source": [
    "# reset bingo_grids, bingo_trackers\n",
    "bingo_nums = get_bingo_nums(puz_input = test_input)\n",
    "bingo_grids = get_bingo_grids(puz_input = test_input)\n",
    "bingo_trackers = make_bingo_trackers(bingo_grids)\n",
    "solve(puz_input = test_input)"
   ]
  },
  {
   "cell_type": "code",
   "execution_count": null,
   "id": "a21b6726",
   "metadata": {},
   "outputs": [
    {
     "name": "stdout",
     "output_type": "stream",
     "text": [
      "0, 1, 2, 3, 4, 5, 6, 7, 8, 9, 10, 11, 12, 13, 14, 15, 16, 17, 18, 19, 20, 21, 22, "
     ]
    }
   ],
   "source": [
    "# Run with final puzzle input\n",
    "with open('adv_2021_d4_input.txt', 'r') as f:\n",
    "    puz_input = f.read()\n",
    "    bingo_nums = get_bingo_nums(puz_input = puz_input)\n",
    "    bingo_grids = get_bingo_grids(puz_input = puz_input)\n",
    "    bingo_trackers = make_bingo_trackers(bingo_grids)\n",
    "    solve(puz_input = puz_input)"
   ]
  },
  {
   "cell_type": "markdown",
   "id": "e414e86a",
   "metadata": {},
   "source": [
    "### Part 2 - Keeping Rows with MCB and LCB"
   ]
  },
  {
   "cell_type": "code",
   "execution_count": 14,
   "id": "92f6c213",
   "metadata": {},
   "outputs": [],
   "source": []
  },
  {
   "cell_type": "code",
   "execution_count": 94,
   "id": "73e4ad64",
   "metadata": {},
   "outputs": [],
   "source": [
    "def find_mcb_pt2(x):\n",
    "    \"\"\"Find most common bit in column array.\"\"\"\n",
    "    if sum(x) / len(x) < 0.5:\n",
    "        return 0\n",
    "    else:\n",
    "        return 1\n",
    "    \n",
    "    \n",
    "def find_lcb_pt2(x):\n",
    "    \"\"\"Find least common bit in column array.\"\"\"\n",
    "    if sum(x) / len(x) < 0.5:\n",
    "        return 1\n",
    "    else:\n",
    "        return 0\n",
    "    \n",
    "    \n",
    "def to_decimal(row):\n",
    "    \"\"\"Most common bit = gamma, least common bit = epsilon.\"\"\"\n",
    "    return int(''.join(str(x) for x in row.to_numpy()[0]), 2)\n",
    "\n",
    "\n",
    "def solve_pt2(x, func):\n",
    "    num_cols = x.shape[1]\n",
    "    x_copy = x.copy()\n",
    "    results = []\n",
    "\n",
    "    for col in range(num_cols):\n",
    "        col_array = x_copy[col]\n",
    "        filter_bit = func(x=col_array)\n",
    "        x_copy = x_copy[x_copy[col] == filter_bit]\n",
    "        if len(x_copy) == 1:\n",
    "            return to_decimal(row=x_copy)"
   ]
  },
  {
   "cell_type": "markdown",
   "id": "eda29ae5",
   "metadata": {},
   "source": [
    "Now our solve function has changed to accept a function (find_mcb or find_lcb) as input so that we can run it twice - once for each type (most common, least common bit). Once we've found the most/least common bit (our `filter_bit`) then we can filter our current dataframe copy by that bit value applied to the specific column we're testing."
   ]
  },
  {
   "cell_type": "code",
   "execution_count": 95,
   "id": "be61b5c0",
   "metadata": {},
   "outputs": [],
   "source": [
    "def run_prog_pt2(puz_input):\n",
    "    puz_input = pd.DataFrame([[int(bit) for bit in line] for line in puz_input.strip().split('\\n')])\n",
    "    oxygen_gen_rating = solve_pt2(puz_input, func=find_mcb_pt2)\n",
    "    c02_scrub_rating = solve_pt2(puz_input, func=find_lcb_pt2)\n",
    "    print(f\"Oxygen Gen: {oxygen_gen_rating} | C02 Scrub: {c02_scrub_rating} | Final Answer: {oxygen_gen_rating * c02_scrub_rating}\") "
   ]
  },
  {
   "cell_type": "code",
   "execution_count": 96,
   "id": "0bf8de09",
   "metadata": {},
   "outputs": [
    {
     "name": "stdout",
     "output_type": "stream",
     "text": [
      "Oxygen Gen: 23 | C02 Scrub: 10 | Final Answer: 230\n"
     ]
    }
   ],
   "source": [
    "# Test with given example\n",
    "run_prog_pt2(puz_input=test_input)"
   ]
  },
  {
   "cell_type": "code",
   "execution_count": 97,
   "id": "f0ac0a86",
   "metadata": {},
   "outputs": [
    {
     "name": "stdout",
     "output_type": "stream",
     "text": [
      "Oxygen Gen: 1177 | C02 Scrub: 4070 | Final Answer: 4790390\n"
     ]
    }
   ],
   "source": [
    "# Run with final puzzle input\n",
    "with open('adv_2021_d3_input.txt', 'r') as f:\n",
    "    run_prog_pt2(puz_input=f.read())"
   ]
  },
  {
   "cell_type": "code",
   "execution_count": null,
   "id": "0dc0be04",
   "metadata": {},
   "outputs": [],
   "source": []
  }
 ],
 "metadata": {
  "kernelspec": {
   "display_name": "Python 3 (ipykernel)",
   "language": "python",
   "name": "python3"
  },
  "language_info": {
   "codemirror_mode": {
    "name": "ipython",
    "version": 3
   },
   "file_extension": ".py",
   "mimetype": "text/x-python",
   "name": "python",
   "nbconvert_exporter": "python",
   "pygments_lexer": "ipython3",
   "version": "3.8.13"
  }
 },
 "nbformat": 4,
 "nbformat_minor": 5
}
