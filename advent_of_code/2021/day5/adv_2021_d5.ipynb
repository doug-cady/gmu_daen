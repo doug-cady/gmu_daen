{
 "cells": [
  {
   "cell_type": "markdown",
   "id": "245eeba1",
   "metadata": {},
   "source": [
    "# Advent of Code challenge 2021\n",
    "\n",
    "## Day 5: Hydrothermal Venture"
   ]
  },
  {
   "cell_type": "markdown",
   "id": "8c915be9",
   "metadata": {},
   "source": [
    "### Part 1 - Find Overlapping Points in a Grid\n",
    "\n",
    "Good references I found helpful:\n"
   ]
  },
  {
   "cell_type": "code",
   "execution_count": 1,
   "id": "c0948791",
   "metadata": {},
   "outputs": [],
   "source": [
    "import numpy as np\n",
    "from typing import NamedTuple"
   ]
  },
  {
   "cell_type": "code",
   "execution_count": 2,
   "id": "c25282fa",
   "metadata": {},
   "outputs": [],
   "source": [
    "test_input = \"\"\"\n",
    "0,9 -> 5,9\n",
    "8,0 -> 0,8\n",
    "9,4 -> 3,4\n",
    "2,2 -> 2,1\n",
    "7,0 -> 7,4\n",
    "6,4 -> 2,0\n",
    "0,9 -> 2,9\n",
    "3,4 -> 1,4\n",
    "0,0 -> 8,8\n",
    "5,5 -> 8,2\n",
    "\"\"\""
   ]
  },
  {
   "cell_type": "markdown",
   "id": "9949fd81",
   "metadata": {},
   "source": [
    "Working through how to parse instructions"
   ]
  },
  {
   "cell_type": "code",
   "execution_count": 76,
   "id": "d1ab9358",
   "metadata": {},
   "outputs": [
    {
     "data": {
      "text/plain": [
       "['0,9 -> 5,9', '8,0 -> 0,8', '9,4 -> 3,4']"
      ]
     },
     "execution_count": 76,
     "metadata": {},
     "output_type": "execute_result"
    }
   ],
   "source": [
    "lines = test_input.strip().split('\\n')\n",
    "lines[:3]"
   ]
  },
  {
   "cell_type": "code",
   "execution_count": 34,
   "id": "def8373d",
   "metadata": {},
   "outputs": [
    {
     "data": {
      "text/plain": [
       "[['0', '9', '5', '9'], ['8', '0', '0', '8'], ['9', '4', '3', '4']]"
      ]
     },
     "execution_count": 34,
     "metadata": {},
     "output_type": "execute_result"
    }
   ],
   "source": [
    "point_list = [sum([part.split(',') for part in line.split(' -> ')], []) for line in lines]\n",
    "point_list[:3]"
   ]
  },
  {
   "cell_type": "markdown",
   "id": "a17e07b7",
   "metadata": {},
   "source": [
    "Get max X and Y points to get shape of grid tracker"
   ]
  },
  {
   "cell_type": "code",
   "execution_count": 38,
   "id": "79a7b606",
   "metadata": {},
   "outputs": [
    {
     "data": {
      "text/plain": [
       "9"
      ]
     },
     "execution_count": 38,
     "metadata": {},
     "output_type": "execute_result"
    }
   ],
   "source": [
    "x_pts = sum([[x0, x1] for x0, y0, x1, y1 in point_list], [])\n",
    "max_x = max(sum([[int(x0), int(x1)] for x0, y0, x1, y1 in point_list], []))\n",
    "max_x"
   ]
  },
  {
   "cell_type": "code",
   "execution_count": 3,
   "id": "0fc302e4",
   "metadata": {},
   "outputs": [],
   "source": [
    "class Point(NamedTuple):\n",
    "    y0: int\n",
    "    y1: int\n",
    "    x0: int\n",
    "    x1: int"
   ]
  },
  {
   "cell_type": "markdown",
   "id": "e8ad7583",
   "metadata": {},
   "source": [
    "Now each list element is a Point tuple containing the labeled beg and end points for X and Y coordinates"
   ]
  },
  {
   "cell_type": "code",
   "execution_count": 79,
   "id": "9214e6d7",
   "metadata": {},
   "outputs": [
    {
     "data": {
      "text/plain": [
       "[[9, 9, 0, 5],\n",
       " [4, 4, 9, 3],\n",
       " [2, 1, 2, 2],\n",
       " [0, 4, 7, 7],\n",
       " [9, 9, 0, 2],\n",
       " [4, 4, 3, 1]]"
      ]
     },
     "execution_count": 79,
     "metadata": {},
     "output_type": "execute_result"
    }
   ],
   "source": [
    "point_list = [sum([part.split(',') for part in line.split(' -> ')], []) for line in lines]\n",
    "int_point_list = [[int(y0), int(y1), int(x0), int(x1)] for x0, y0, x1, y1 in point_list]\n",
    "hori_vert_lines = [[y0, y1, x0, x1] for y0, y1, x0, x1 in int_point_list if (x0 == x1) | (y0 == y1)]\n",
    "hori_vert_lines"
   ]
  },
  {
   "cell_type": "markdown",
   "id": "dd9783e0",
   "metadata": {},
   "source": [
    "### Make a grid of 0s and process each instruction to increment each element accordingly"
   ]
  },
  {
   "cell_type": "code",
   "execution_count": 20,
   "id": "20f2ca16",
   "metadata": {},
   "outputs": [],
   "source": [
    "class Hydro:\n",
    "    def __init__(self, puz_input):\n",
    "        self.puz_input = puz_input\n",
    "        self.max_x = 0\n",
    "        self.max_y = 0\n",
    "        self.vent_lines = self.get_vent_lines()\n",
    "        self.grid = self.make_init_grid()\n",
    "        \n",
    "        \n",
    "    def __repr__(self):\n",
    "        info = [f\"\\nNum lines added: {len(self.vent_lines)}\",\n",
    "                f\"Num overlap points: [ {self.num_overlap_pts} ]\"]\n",
    "        return '\\n'.join(info)\n",
    "    \n",
    "            \n",
    "    def get_vent_lines(self):\n",
    "        \"\"\"Extract vent lines (as a set of beg, end X,Y points) from puzzle input.\"\"\"\n",
    "        lines = self.puz_input.strip().split('\\n')\n",
    "        point_list = [sum([part.split(',') for part in line.split(' -> ')], []) for line in lines]\n",
    "        int_point_list = [[int(y0), int(y1), int(x0), int(x1)] for x0, y0, x1, y1 in point_list]\n",
    "        hori_vert_lines = [[y0, y1, x0, x1] for y0, y1, x0, x1 in int_point_list if (x0 == x1) | (y0 == y1)]\n",
    "        \n",
    "        # Get max X, Y values to set a matching grid array with shape (X, Y)\n",
    "        self.max_x = max(sum([[x0, x1] for y0, y1, x0, x1 in hori_vert_lines], [])) + 1\n",
    "        self.max_y = max(sum([[y0, y1] for y0, y1, x0, x1 in hori_vert_lines], [])) + 1\n",
    "        \n",
    "        return [Point(y0, y1, x0, x1) for y0, y1, x0, x1 in hori_vert_lines]\n",
    "    \n",
    "    \n",
    "    def make_init_grid(self):\n",
    "        \"\"\"Make a grid of 0s to track where vent lines are located.\"\"\"\n",
    "        return np.array([[0] * self.max_x] * self.max_y)\n",
    "    \n",
    "    \n",
    "    def add_vent_lines_to_grid(self):\n",
    "        \"\"\"Loop over vent lines and add 'points' to grid to create vent lines.\n",
    "            - Min, max are used to ensure the smaller point comes before the larger point when\n",
    "              accessing the numpy array\n",
    "        \"\"\"\n",
    "        for line in self.vent_lines:\n",
    "            if line.y0 == line.y1:\n",
    "                self.grid[line.y0, min(line.x0, line.x1):max(line.x0, line.x1) + 1] += 1\n",
    "            elif line.x0 == line.x1:\n",
    "                self.grid[min(line.y0, line.y1):max(line.y0, line.y1) + 1, line.x0] += 1\n",
    "    \n",
    "    \n",
    "    def find_num_overlap_points(self):\n",
    "        \"\"\"Find the number of points where at least 2 lines overlap.\"\"\"\n",
    "        self.num_overlap_pts = len(self.grid[self.grid >= 2])\n",
    "        \n",
    "        \n",
    "    def solve(self):\n",
    "        \"\"\"Main function to solve hydrothermal vent puzzle.\"\"\"\n",
    "        self.add_vent_lines_to_grid()\n",
    "        self.find_num_overlap_points()"
   ]
  },
  {
   "cell_type": "code",
   "execution_count": 118,
   "id": "cad9241d",
   "metadata": {
    "collapsed": true,
    "jupyter": {
     "outputs_hidden": true
    }
   },
   "outputs": [
    {
     "data": {
      "text/plain": [
       "[Point(y0=9, y1=9, x0=0, x1=5),\n",
       " Point(y0=4, y1=4, x0=9, x1=3),\n",
       " Point(y0=2, y1=1, x0=2, x1=2),\n",
       " Point(y0=0, y1=4, x0=7, x1=7),\n",
       " Point(y0=9, y1=9, x0=0, x1=2),\n",
       " Point(y0=4, y1=4, x0=3, x1=1)]"
      ]
     },
     "metadata": {},
     "output_type": "display_data"
    }
   ],
   "source": [
    "hydro_test = Hydro(puz_input=test_input)\n",
    "display(hydro_test.vent_lines)"
   ]
  },
  {
   "cell_type": "code",
   "execution_count": 109,
   "id": "6e4e514d",
   "metadata": {
    "collapsed": true,
    "jupyter": {
     "outputs_hidden": true
    }
   },
   "outputs": [
    {
     "data": {
      "text/plain": [
       "array([[0, 0, 0, 0, 0, 0, 0, 0, 0, 0],\n",
       "       [0, 0, 0, 0, 0, 0, 0, 0, 0, 0],\n",
       "       [0, 0, 0, 0, 0, 0, 0, 0, 0, 0],\n",
       "       [0, 0, 0, 0, 0, 0, 0, 0, 0, 0],\n",
       "       [0, 0, 0, 0, 0, 0, 0, 0, 0, 0],\n",
       "       [0, 0, 0, 0, 0, 0, 0, 0, 0, 0],\n",
       "       [0, 0, 0, 0, 0, 0, 0, 0, 0, 0],\n",
       "       [0, 0, 0, 0, 0, 0, 0, 0, 0, 0],\n",
       "       [0, 0, 0, 0, 0, 0, 0, 0, 0, 0],\n",
       "       [1, 1, 1, 1, 1, 1, 0, 0, 0, 0]])"
      ]
     },
     "execution_count": 109,
     "metadata": {},
     "output_type": "execute_result"
    }
   ],
   "source": [
    "# Test adding a line of points from 0,9 -> 5,9\n",
    "# numpy accessors are like this: [Y is rows, X is cols]\n",
    "test_grid = hydro_test.grid\n",
    "test_grid[9, 0:5+1] += 1\n",
    "test_grid"
   ]
  },
  {
   "cell_type": "code",
   "execution_count": 110,
   "id": "843a8e8c",
   "metadata": {
    "collapsed": true,
    "jupyter": {
     "outputs_hidden": true
    }
   },
   "outputs": [
    {
     "data": {
      "text/plain": [
       "array([[0, 0, 0, 0, 0, 0, 0, 1, 0, 0],\n",
       "       [0, 0, 0, 0, 0, 0, 0, 1, 0, 0],\n",
       "       [0, 0, 0, 0, 0, 0, 0, 1, 0, 0],\n",
       "       [0, 0, 0, 0, 0, 0, 0, 1, 0, 0],\n",
       "       [0, 0, 0, 0, 0, 0, 0, 1, 0, 0],\n",
       "       [0, 0, 0, 0, 0, 0, 0, 0, 0, 0],\n",
       "       [0, 0, 0, 0, 0, 0, 0, 0, 0, 0],\n",
       "       [0, 0, 0, 0, 0, 0, 0, 0, 0, 0],\n",
       "       [0, 0, 0, 0, 0, 0, 0, 0, 0, 0],\n",
       "       [1, 1, 1, 1, 1, 1, 0, 0, 0, 0]])"
      ]
     },
     "execution_count": 110,
     "metadata": {},
     "output_type": "execute_result"
    }
   ],
   "source": [
    "# Test adding a line of points from 7,0 -> 7,4\n",
    "# numpy accessors are like this: [Y is rows, X is cols]\n",
    "test_grid[0:4+1, 7] += 1\n",
    "test_grid"
   ]
  },
  {
   "cell_type": "markdown",
   "id": "23e6169a",
   "metadata": {},
   "source": [
    "Test adding points to grid as a class function"
   ]
  },
  {
   "cell_type": "code",
   "execution_count": 119,
   "id": "ac7ce34b",
   "metadata": {
    "collapsed": true,
    "jupyter": {
     "outputs_hidden": true
    }
   },
   "outputs": [
    {
     "data": {
      "text/plain": [
       "array([[0, 0, 0, 0, 0, 0, 0, 1, 0, 0],\n",
       "       [0, 0, 1, 0, 0, 0, 0, 1, 0, 0],\n",
       "       [0, 0, 1, 0, 0, 0, 0, 1, 0, 0],\n",
       "       [0, 0, 0, 0, 0, 0, 0, 1, 0, 0],\n",
       "       [0, 1, 1, 2, 1, 1, 1, 2, 1, 1],\n",
       "       [0, 0, 0, 0, 0, 0, 0, 0, 0, 0],\n",
       "       [0, 0, 0, 0, 0, 0, 0, 0, 0, 0],\n",
       "       [0, 0, 0, 0, 0, 0, 0, 0, 0, 0],\n",
       "       [0, 0, 0, 0, 0, 0, 0, 0, 0, 0],\n",
       "       [2, 2, 2, 1, 1, 1, 0, 0, 0, 0]])"
      ]
     },
     "metadata": {},
     "output_type": "display_data"
    }
   ],
   "source": [
    "hydro_test.add_vent_lines_to_grid()\n",
    "display(hydro_test.grid)"
   ]
  },
  {
   "cell_type": "markdown",
   "id": "07cd5f0e",
   "metadata": {},
   "source": [
    "Find number of points where at least 2 lines overlap (grid value >= 2)"
   ]
  },
  {
   "cell_type": "code",
   "execution_count": 127,
   "id": "560ee4c2",
   "metadata": {
    "collapsed": true,
    "jupyter": {
     "outputs_hidden": true
    }
   },
   "outputs": [
    {
     "name": "stdout",
     "output_type": "stream",
     "text": [
      "[2 2 2 2 2]\n"
     ]
    },
    {
     "data": {
      "text/plain": [
       "5"
      ]
     },
     "execution_count": 127,
     "metadata": {},
     "output_type": "execute_result"
    }
   ],
   "source": [
    "points_gte_2 = hydro_test.grid[hydro_test.grid >= 2]\n",
    "print(points_gte_2)\n",
    "len(points_gte_2)"
   ]
  },
  {
   "cell_type": "code",
   "execution_count": 21,
   "id": "012bf045",
   "metadata": {},
   "outputs": [
    {
     "name": "stdout",
     "output_type": "stream",
     "text": [
      "\n",
      "Num lines added: 6\n",
      "Num overlap points: [ 5 ]\n"
     ]
    }
   ],
   "source": [
    "hydro_test = Hydro(puz_input=test_input)\n",
    "hydro_test.solve()\n",
    "print(hydro_test)"
   ]
  },
  {
   "cell_type": "code",
   "execution_count": 22,
   "id": "daaf7d92",
   "metadata": {},
   "outputs": [
    {
     "name": "stdout",
     "output_type": "stream",
     "text": [
      "\n",
      "Num lines added: 321\n",
      "Num overlap points: [ 4655 ]\n"
     ]
    }
   ],
   "source": [
    "# Run with final puzzle input\n",
    "with open('adv_2021_d5_input.txt', 'r') as f:\n",
    "    hydro_pt1 = Hydro(puz_input=f.read())\n",
    "    hydro_pt1.solve()\n",
    "    print(hydro_pt1)"
   ]
  },
  {
   "cell_type": "markdown",
   "id": "bb010c5f",
   "metadata": {},
   "source": [
    "### Part 2 - Same as Pt.1 but with Diagonal Lines!\n",
    "\n",
    "Plan:\n",
    "- Modify `get_vent_lines` to no longer remove diagonal lines\n",
    "- Modify `add_vent_lines_to_grid` function to handle diagonal lines"
   ]
  },
  {
   "cell_type": "code",
   "execution_count": 31,
   "id": "24cbfc16",
   "metadata": {},
   "outputs": [],
   "source": [
    "class Hydro2:\n",
    "    def __init__(self, puz_input):\n",
    "        self.puz_input = puz_input\n",
    "        self.max_x = 0\n",
    "        self.max_y = 0\n",
    "        self.vent_lines = self.get_vent_lines()\n",
    "        self.grid = self.make_init_grid()\n",
    "        \n",
    "        \n",
    "    def __repr__(self):\n",
    "        info = [f\"\\nLines added: {len(self.vent_lines)}\",\n",
    "                f\"Overlapping points: [ {self.num_overlap_pts} ]\"]\n",
    "        return '\\n'.join(info)\n",
    "    \n",
    "            \n",
    "    def get_vent_lines(self):\n",
    "        \"\"\"Extract vent lines (as a set of beg, end X,Y points) from puzzle input.\"\"\"\n",
    "        lines = self.puz_input.strip().split('\\n')\n",
    "        point_list = [sum([part.split(',') for part in line.split(' -> ')], []) for line in lines]\n",
    "        int_point_list = [[int(y0), int(y1), int(x0), int(x1)] for x0, y0, x1, y1 in point_list]\n",
    "        \n",
    "        # Get max X, Y values to set a matching grid array with shape (X, Y)\n",
    "        self.max_x = max(sum([[x0, x1] for y0, y1, x0, x1 in int_point_list], [])) + 1\n",
    "        self.max_y = max(sum([[y0, y1] for y0, y1, x0, x1 in int_point_list], [])) + 1\n",
    "        \n",
    "        return [Point(y0, y1, x0, x1) for y0, y1, x0, x1 in int_point_list]\n",
    "    \n",
    "    \n",
    "    def make_init_grid(self):\n",
    "        \"\"\"Make a grid of 0s to track where vent lines are located.\"\"\"\n",
    "        return np.array([[0] * self.max_x] * self.max_y)\n",
    "    \n",
    "    \n",
    "    def add_vent_lines_to_grid(self):\n",
    "        \"\"\"Loop over vent lines and add 'points' to grid to create vent lines.\n",
    "            - Min, max are used to ensure the smaller point comes before the larger point when\n",
    "              accessing the numpy array\n",
    "        \"\"\"\n",
    "        for line in self.vent_lines:\n",
    "            # Horizontal\n",
    "            if line.y0 == line.y1:\n",
    "                self.grid[line.y0, min(line.x0, line.x1):max(line.x0, line.x1) + 1] += 1\n",
    "            \n",
    "            # Vertical\n",
    "            elif line.x0 == line.x1:\n",
    "                self.grid[min(line.y0, line.y1):max(line.y0, line.y1) + 1, line.x0] += 1\n",
    "            \n",
    "            # Diagonal\n",
    "            else:\n",
    "                x_min, x_max = [min(line.x0, line.x1), max(line.x0, line.x1)]\n",
    "                y_min, y_max = [min(line.y0, line.y1), max(line.y0, line.y1)]\n",
    "                \n",
    "                x_flip = 1 if line.x0 < line.x1 else -1\n",
    "                y_flip = 1 if line.y0 < line.y1 else -1\n",
    "                \n",
    "                x_diag = [x for x in range(x_min, x_max + 1)][::x_flip]\n",
    "                y_diag = [y for y in range(y_min, y_max + 1)][::y_flip]\n",
    "                \n",
    "#                 print(f\"({line.x0}, {line.y0} -> {line.x1}, {line.y1})\")\n",
    "#                 print((x_diag, y_diag))\n",
    "                self.grid[(y_diag, x_diag)] += 1\n",
    "    \n",
    "    \n",
    "    def find_num_overlap_points(self):\n",
    "        \"\"\"Find the number of points where at least 2 lines overlap.\"\"\"\n",
    "        self.num_overlap_pts = len(self.grid[self.grid >= 2])\n",
    "        \n",
    "        \n",
    "    def solve(self):\n",
    "        \"\"\"Main function to solve hydrothermal vent puzzle.\"\"\"\n",
    "        self.add_vent_lines_to_grid()\n",
    "        self.find_num_overlap_points()"
   ]
  },
  {
   "cell_type": "code",
   "execution_count": 9,
   "id": "e23bc115",
   "metadata": {
    "collapsed": true,
    "jupyter": {
     "outputs_hidden": true
    }
   },
   "outputs": [
    {
     "data": {
      "text/plain": [
       "[Point(y0=9, y1=9, x0=0, x1=5),\n",
       " Point(y0=0, y1=8, x0=8, x1=0),\n",
       " Point(y0=4, y1=4, x0=9, x1=3),\n",
       " Point(y0=2, y1=1, x0=2, x1=2),\n",
       " Point(y0=0, y1=4, x0=7, x1=7),\n",
       " Point(y0=4, y1=0, x0=6, x1=2),\n",
       " Point(y0=9, y1=9, x0=0, x1=2),\n",
       " Point(y0=4, y1=4, x0=3, x1=1),\n",
       " Point(y0=0, y1=8, x0=0, x1=8),\n",
       " Point(y0=5, y1=2, x0=5, x1=8)]"
      ]
     },
     "metadata": {},
     "output_type": "display_data"
    }
   ],
   "source": [
    "hydro_test2 = Hydro2(puz_input=test_input)\n",
    "display(hydro_test2.vent_lines)"
   ]
  },
  {
   "cell_type": "markdown",
   "id": "d1d2473b",
   "metadata": {},
   "source": [
    "Test diagonal line case in `add_vent_lines_to_grid` function"
   ]
  },
  {
   "cell_type": "code",
   "execution_count": 10,
   "id": "a2799691",
   "metadata": {
    "collapsed": true,
    "jupyter": {
     "outputs_hidden": true
    }
   },
   "outputs": [
    {
     "name": "stdout",
     "output_type": "stream",
     "text": [
      "(8, 0 -> 0, 8)\n",
      "([8, 7, 6, 5, 4, 3, 2, 1, 0], [0, 1, 2, 3, 4, 5, 6, 7, 8])\n",
      "(6, 4 -> 2, 0)\n",
      "([6, 5, 4, 3, 2], [4, 3, 2, 1, 0])\n",
      "(0, 0 -> 8, 8)\n",
      "([0, 1, 2, 3, 4, 5, 6, 7, 8], [0, 1, 2, 3, 4, 5, 6, 7, 8])\n",
      "(5, 5 -> 8, 2)\n",
      "([5, 6, 7, 8], [5, 4, 3, 2])\n"
     ]
    }
   ],
   "source": [
    "lines2 = hydro_test2.vent_lines\n",
    "for line in lines2:\n",
    "    if line.y0 == line.y1:\n",
    "        pass\n",
    "    elif line.x0 == line.x1:\n",
    "        pass\n",
    "    else: # Diagonal\n",
    "        x_min, x_max = [min(line.x0, line.x1), max(line.x0, line.x1)]\n",
    "        y_min, y_max = [min(line.y0, line.y1), max(line.y0, line.y1)]\n",
    "\n",
    "        x_flip = 1 if line.x0 < line.x1 else -1\n",
    "        y_flip = 1 if line.y0 < line.y1 else -1\n",
    "\n",
    "        x_diag = [x for x in range(x_min, x_max + 1)][::x_flip]\n",
    "        y_diag = [y for y in range(y_min, y_max + 1)][::y_flip]\n",
    "\n",
    "        print(f\"({line.x0}, {line.y0} -> {line.x1}, {line.y1})\")\n",
    "        print((x_diag, y_diag))\n",
    "#         self.grid[(x_diag, y_diag)] += 1"
   ]
  },
  {
   "cell_type": "code",
   "execution_count": 179,
   "id": "7011b8dd",
   "metadata": {
    "collapsed": true,
    "jupyter": {
     "outputs_hidden": true
    }
   },
   "outputs": [
    {
     "data": {
      "text/plain": [
       "array([[1, 0, 0, 0, 0, 0, 0, 0, 0, 0],\n",
       "       [0, 1, 0, 0, 0, 0, 0, 0, 0, 0],\n",
       "       [0, 0, 1, 0, 0, 0, 0, 0, 0, 0],\n",
       "       [0, 0, 0, 1, 0, 0, 0, 0, 0, 0],\n",
       "       [0, 0, 0, 0, 1, 0, 0, 0, 0, 0],\n",
       "       [0, 0, 0, 0, 0, 1, 0, 0, 0, 0],\n",
       "       [0, 0, 0, 0, 0, 0, 1, 0, 0, 0],\n",
       "       [0, 0, 0, 0, 0, 0, 0, 1, 0, 0],\n",
       "       [0, 0, 0, 0, 0, 0, 0, 0, 1, 0],\n",
       "       [0, 0, 0, 0, 0, 0, 0, 0, 0, 0]])"
      ]
     },
     "execution_count": 179,
     "metadata": {},
     "output_type": "execute_result"
    }
   ],
   "source": [
    "hydro_test.grid"
   ]
  },
  {
   "cell_type": "markdown",
   "id": "bc7176d2",
   "metadata": {},
   "source": [
    "I made a diagonal line, now we can solve the whole test puzzle and then the final puzzle"
   ]
  },
  {
   "cell_type": "code",
   "execution_count": 28,
   "id": "1bf37b44",
   "metadata": {},
   "outputs": [
    {
     "name": "stdout",
     "output_type": "stream",
     "text": [
      "(8, 0 -> 0, 8)\n",
      "([8, 7, 6, 5, 4, 3, 2, 1, 0], [0, 1, 2, 3, 4, 5, 6, 7, 8])\n",
      "(6, 4 -> 2, 0)\n",
      "([6, 5, 4, 3, 2], [4, 3, 2, 1, 0])\n",
      "(0, 0 -> 8, 8)\n",
      "([0, 1, 2, 3, 4, 5, 6, 7, 8], [0, 1, 2, 3, 4, 5, 6, 7, 8])\n",
      "(5, 5 -> 8, 2)\n",
      "([5, 6, 7, 8], [5, 4, 3, 2])\n",
      "\n",
      "Lines added: 10\n",
      "Overlapping points: [ 12 ]\n"
     ]
    }
   ],
   "source": [
    "hydro_test2 = Hydro2(puz_input=test_input)\n",
    "hydro_test2.solve()\n",
    "print(hydro_test2)"
   ]
  },
  {
   "cell_type": "code",
   "execution_count": 33,
   "id": "86150bde",
   "metadata": {},
   "outputs": [
    {
     "name": "stdout",
     "output_type": "stream",
     "text": [
      "\n",
      "Lines added: 500\n",
      "Overlapping points: [ 20500 ]\n"
     ]
    }
   ],
   "source": [
    "# Run with final puzzle input\n",
    "with open('adv_2021_d5_input.txt', 'r') as f:\n",
    "    hydro_pt2 = Hydro2(puz_input=f.read())\n",
    "    hydro_pt2.solve()\n",
    "    print(hydro_pt2)"
   ]
  }
 ],
 "metadata": {
  "kernelspec": {
   "display_name": "Python 3 (ipykernel)",
   "language": "python",
   "name": "python3"
  },
  "language_info": {
   "codemirror_mode": {
    "name": "ipython",
    "version": 3
   },
   "file_extension": ".py",
   "mimetype": "text/x-python",
   "name": "python",
   "nbconvert_exporter": "python",
   "pygments_lexer": "ipython3",
   "version": "3.8.13"
  }
 },
 "nbformat": 4,
 "nbformat_minor": 5
}
